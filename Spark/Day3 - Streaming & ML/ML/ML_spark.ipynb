{
 "cells": [
  {
   "cell_type": "code",
   "execution_count": 1,
   "metadata": {},
   "outputs": [],
   "source": [
    "import findspark\n",
    "findspark.init()\n",
    "import pyspark\n",
    "from pyspark.sql import SparkSession\n",
    "spark = (SparkSession.builder.getOrCreate())"
   ]
  },
  {
   "cell_type": "code",
   "execution_count": 2,
   "metadata": {},
   "outputs": [
    {
     "name": "stdout",
     "output_type": "stream",
     "text": [
      "+----------+------+--------------+----------------+----------+----------+--------------------+--------------------+--------------------+----+-------+---------+-----------+----+----------------+--------+-------------+-------+-------------+---------+--------+--------------------------+----------------------+------------------+--------------------+--------------------+-------------+-----+\n",
      "|CallNumber|UnitID|IncidentNumber|        CallType|  CallDate| WatchDate|CallFinalDisposition|       AvailableDtTm|             Address|City|Zipcode|Battalion|StationArea| Box|OriginalPriority|Priority|FinalPriority|ALSUnit|CallTypeGroup|NumAlarms|UnitType|UnitSequenceInCallDispatch|FirePreventionDistrict|SupervisorDistrict|        Neighborhood|            Location|        RowID|Delay|\n",
      "+----------+------+--------------+----------------+----------+----------+--------------------+--------------------+--------------------+----+-------+---------+-----------+----+----------------+--------+-------------+-------+-------------+---------+--------+--------------------------+----------------------+------------------+--------------------+--------------------+-------------+-----+\n",
      "|  20110016|   T13|       2003235|  Structure Fire|01/11/2002|01/10/2002|               Other|01/11/2002 01:51:...|2000 Block of CAL...|  SF|  94109|      B04|         38|3362|               3|       3|            3|  false|         null|        1|   TRUCK|                         2|                     4|                 5|     Pacific Heights|(37.7895840679362...|020110016-T13| 2.95|\n",
      "|  20110022|   M17|       2003241|Medical Incident|01/11/2002|01/10/2002|               Other|01/11/2002 03:01:...|0 Block of SILVER...|  SF|  94124|      B10|         42|6495|               3|       3|            3|   true|         null|        1|   MEDIC|                         1|                    10|                10|Bayview Hunters P...|(37.7337623673897...|020110022-M17|  4.7|\n",
      "+----------+------+--------------+----------------+----------+----------+--------------------+--------------------+--------------------+----+-------+---------+-----------+----+----------------+--------+-------------+-------+-------------+---------+--------+--------------------------+----------------------+------------------+--------------------+--------------------+-------------+-----+\n",
      "only showing top 2 rows\n",
      "\n"
     ]
    }
   ],
   "source": [
    "filepath = 'sf-fire-calls.csv'\n",
    "df=spark.read.csv(filepath ,header = True , inferSchema =True)\n",
    "df.show(2)"
   ]
  },
  {
   "cell_type": "code",
   "execution_count": 3,
   "metadata": {},
   "outputs": [
    {
     "name": "stdout",
     "output_type": "stream",
     "text": [
      "root\n",
      " |-- CallNumber: integer (nullable = true)\n",
      " |-- UnitID: string (nullable = true)\n",
      " |-- IncidentNumber: integer (nullable = true)\n",
      " |-- CallType: string (nullable = true)\n",
      " |-- CallDate: string (nullable = true)\n",
      " |-- WatchDate: string (nullable = true)\n",
      " |-- CallFinalDisposition: string (nullable = true)\n",
      " |-- AvailableDtTm: string (nullable = true)\n",
      " |-- Address: string (nullable = true)\n",
      " |-- City: string (nullable = true)\n",
      " |-- Zipcode: integer (nullable = true)\n",
      " |-- Battalion: string (nullable = true)\n",
      " |-- StationArea: string (nullable = true)\n",
      " |-- Box: string (nullable = true)\n",
      " |-- OriginalPriority: string (nullable = true)\n",
      " |-- Priority: string (nullable = true)\n",
      " |-- FinalPriority: integer (nullable = true)\n",
      " |-- ALSUnit: boolean (nullable = true)\n",
      " |-- CallTypeGroup: string (nullable = true)\n",
      " |-- NumAlarms: integer (nullable = true)\n",
      " |-- UnitType: string (nullable = true)\n",
      " |-- UnitSequenceInCallDispatch: integer (nullable = true)\n",
      " |-- FirePreventionDistrict: string (nullable = true)\n",
      " |-- SupervisorDistrict: string (nullable = true)\n",
      " |-- Neighborhood: string (nullable = true)\n",
      " |-- Location: string (nullable = true)\n",
      " |-- RowID: string (nullable = true)\n",
      " |-- Delay: double (nullable = true)\n",
      "\n"
     ]
    }
   ],
   "source": [
    "df.printSchema()"
   ]
  },
  {
   "cell_type": "markdown",
   "metadata": {},
   "source": [
    "# Note : \n",
    "when split data , you have to save new splits in parquet file to guarantee that you save the sorting of data .\n"
   ]
  },
  {
   "cell_type": "code",
   "execution_count": 4,
   "metadata": {},
   "outputs": [
    {
     "name": "stdout",
     "output_type": "stream",
     "text": [
      "+-------------+---------+---------+\n",
      "|FinalPriority|NumAlarms|Delay    |\n",
      "+-------------+---------+---------+\n",
      "|3            |1        |2.95     |\n",
      "|3            |1        |4.7      |\n",
      "|3            |1        |2.4333334|\n",
      "+-------------+---------+---------+\n",
      "only showing top 3 rows\n",
      "\n",
      "None\n",
      "35013\n",
      "140283\n"
     ]
    }
   ],
   "source": [
    "df = df.select(['FinalPriority' , 'NumAlarms','Delay'])\n",
    "print(df.show(3,truncate=False))\n",
    "test , train = df.randomSplit([0.2, 0.8], 24)\n",
    "print(test.count())\n",
    "print(train.count())\n"
   ]
  },
  {
   "cell_type": "code",
   "execution_count": 7,
   "metadata": {},
   "outputs": [],
   "source": [
    "from  pyspark.ml.feature import VectorAssembler\n",
    "\n",
    "vecAssemble = VectorAssembler(inputCols= ['FinalPriority'] , outputCol='features')\n",
    "vecAssemble2 = VectorAssembler(inputCols= ['FinalPriority' , 'NumAlarms','Delay'] , outputCol='features')\n",
    "\n",
    "vecTrain = vecAssemble.transform(train)\n",
    "vecTrain2 = vecAssemble2.transform(train)"
   ]
  },
  {
   "cell_type": "code",
   "execution_count": 8,
   "metadata": {},
   "outputs": [
    {
     "name": "stdout",
     "output_type": "stream",
     "text": [
      "+-------------+---------+--------------------+\n",
      "|FinalPriority|NumAlarms|            features|\n",
      "+-------------+---------+--------------------+\n",
      "|            2|        1|[2.0,1.0,0.28333333]|\n",
      "|            2|        1|[2.0,1.0,0.28333333]|\n",
      "|            2|        1|       [2.0,1.0,0.3]|\n",
      "|            2|        1|[2.0,1.0,0.31666666]|\n",
      "|            2|        1|[2.0,1.0,0.33333334]|\n",
      "|            2|        1|[2.0,1.0,0.36666667]|\n",
      "|            2|        1|[2.0,1.0,0.38333333]|\n",
      "|            2|        1|[2.0,1.0,0.38333333]|\n",
      "|            2|        1|[2.0,1.0,0.38333333]|\n",
      "|            2|        1|[2.0,1.0,0.38333333]|\n",
      "|            2|        1|[2.0,1.0,0.38333333]|\n",
      "|            2|        1|[2.0,1.0,0.38333333]|\n",
      "|            2|        1|[2.0,1.0,0.38333333]|\n",
      "|            2|        1|       [2.0,1.0,0.4]|\n",
      "|            2|        1|       [2.0,1.0,0.4]|\n",
      "|            2|        1|[2.0,1.0,0.41666666]|\n",
      "|            2|        1|[2.0,1.0,0.41666666]|\n",
      "|            2|        1|[2.0,1.0,0.43333334]|\n",
      "|            2|        1|[2.0,1.0,0.43333334]|\n",
      "|            2|        1|      [2.0,1.0,0.45]|\n",
      "+-------------+---------+--------------------+\n",
      "only showing top 20 rows\n",
      "\n"
     ]
    }
   ],
   "source": [
    "vecTrain2 = vecTrain2.select(['FinalPriority' , 'NumAlarms','features'])\n",
    "vecTrain2.show()"
   ]
  },
  {
   "cell_type": "code",
   "execution_count": null,
   "metadata": {},
   "outputs": [],
   "source": []
  }
 ],
 "metadata": {
  "kernelspec": {
   "display_name": "Python 3",
   "language": "python",
   "name": "python3"
  },
  "language_info": {
   "codemirror_mode": {
    "name": "ipython",
    "version": 3
   },
   "file_extension": ".py",
   "mimetype": "text/x-python",
   "name": "python",
   "nbconvert_exporter": "python",
   "pygments_lexer": "ipython3",
   "version": "3.8.5"
  }
 },
 "nbformat": 4,
 "nbformat_minor": 4
}
