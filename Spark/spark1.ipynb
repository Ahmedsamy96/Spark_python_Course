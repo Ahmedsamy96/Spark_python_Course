{
 "cells": [
  {
   "cell_type": "code",
   "execution_count": 1,
   "metadata": {},
   "outputs": [],
   "source": [
    "import findspark\n",
    "findspark.init()\n",
    "findspark.find()\n",
    "import pyspark\n",
    "findspark.find()\n",
    "\n",
    "from pyspark import SparkContext, SparkConf\n",
    "from pyspark.sql import SparkSession"
   ]
  },
  {
   "cell_type": "code",
   "execution_count": 2,
   "metadata": {},
   "outputs": [
    {
     "data": {
      "text/html": [
       "\n",
       "            <div>\n",
       "                <p><b>SparkSession - in-memory</b></p>\n",
       "                \n",
       "        <div>\n",
       "            <p><b>SparkContext</b></p>\n",
       "\n",
       "            <p><a href=\"http://DESKTOP-9HU30AI:4042\">Spark UI</a></p>\n",
       "\n",
       "            <dl>\n",
       "              <dt>Version</dt>\n",
       "                <dd><code>v3.0.3</code></dd>\n",
       "              <dt>Master</dt>\n",
       "                <dd><code>local</code></dd>\n",
       "              <dt>AppName</dt>\n",
       "                <dd><code>appName</code></dd>\n",
       "            </dl>\n",
       "        </div>\n",
       "        \n",
       "            </div>\n",
       "        "
      ],
      "text/plain": [
       "<pyspark.sql.session.SparkSession at 0x1ea972c1940>"
      ]
     },
     "execution_count": 2,
     "metadata": {},
     "output_type": "execute_result"
    }
   ],
   "source": [
    "conf = pyspark.SparkConf().setAppName('appName').setMaster('local')\n",
    "sc = pyspark.SparkContext(conf=conf)\n",
    "spark = SparkSession(sc)\n",
    "\n",
    "#spark = SparkSession.builder.getOrCreate()\n",
    "\n",
    "#df = spark.sql(\"select 'spark' as hello \")\n",
    "\n",
    "#df.show()\n",
    "spark"
   ]
  },
  {
   "cell_type": "code",
   "execution_count": 3,
   "metadata": {},
   "outputs": [
    {
     "data": {
      "text/plain": [
       "[1, 4, 9, 16]"
      ]
     },
     "execution_count": 3,
     "metadata": {},
     "output_type": "execute_result"
    }
   ],
   "source": [
    "nums = sc.parallelize([1,2,3,4])\n",
    "nums.map(lambda x: x*x).collect()"
   ]
  },
  {
   "cell_type": "code",
   "execution_count": 4,
   "metadata": {},
   "outputs": [
    {
     "data": {
      "text/plain": [
       "[['#', 'Perform', 'the', 'necessary', 'imports'],\n",
       " ['import', 'matplotlib.pyplot', 'as', 'plt'],\n",
       " ['from', 'scipy.stats', 'import', 'pearsonr'],\n",
       " [],\n",
       " ['#', 'Assign', 'the', '0th', 'column', 'of', 'grains:', 'width'],\n",
       " ['width', '=', 'grains[:,0]'],\n",
       " [],\n",
       " ['#', 'Assign', 'the', '1st', 'column', 'of', 'grains:', 'length'],\n",
       " ['length', '=', 'grains[:,1]'],\n",
       " [],\n",
       " ['#', 'Scatter', 'plot', 'width', 'vs', 'length'],\n",
       " ['plt.scatter(width,', 'length)'],\n",
       " [\"plt.axis('equal')\"],\n",
       " ['plt.show()'],\n",
       " [],\n",
       " ['#', 'Calculate', 'the', 'Pearson', 'correlation'],\n",
       " ['correlation,', 'pvalue', '=', 'pearsonr(width,', 'length)'],\n",
       " [],\n",
       " ['#', 'Display', 'the', 'correlation'],\n",
       " ['print(correlation)'],\n",
       " ['-----------------------------------------'],\n",
       " [],\n",
       " ['#', 'Import', 'PCA'],\n",
       " ['from', 'sklearn.decomposition', 'import', 'PCA'],\n",
       " [],\n",
       " [],\n",
       " ['#', 'Create', 'PCA', 'instance:', 'model'],\n",
       " ['model', '=', 'PCA()'],\n",
       " [],\n",
       " ['#',\n",
       "  'Apply',\n",
       "  'the',\n",
       "  'fit_transform',\n",
       "  'method',\n",
       "  'of',\n",
       "  'model',\n",
       "  'to',\n",
       "  'grains:',\n",
       "  'pca_features'],\n",
       " ['pca_features', '=', 'model.fit_transform(grains)'],\n",
       " [],\n",
       " ['#', 'Assign', '0th', 'column', 'of', 'pca_features:', 'xs'],\n",
       " ['xs', '=', 'pca_features[:,0]'],\n",
       " [],\n",
       " ['#', 'Assign', '1st', 'column', 'of', 'pca_features:', 'ys'],\n",
       " ['ys', '=', 'pca_features[:,1]'],\n",
       " [],\n",
       " ['#', 'Scatter', 'plot', 'xs', 'vs', 'ys'],\n",
       " ['plt.scatter(xs,', 'ys)'],\n",
       " [\"plt.axis('equal')\"],\n",
       " ['plt.show()'],\n",
       " [],\n",
       " ['#', 'Calculate', 'the', 'Pearson', 'correlation', 'of', 'xs', 'and', 'ys'],\n",
       " ['correlation,', 'pvalue', '=', 'pearsonr(xs,', 'ys)'],\n",
       " [],\n",
       " ['#', 'Display', 'the', 'correlation'],\n",
       " ['print(correlation)'],\n",
       " [],\n",
       " ['-------------------------------------------'],\n",
       " [],\n",
       " ['#', 'Make', 'a', 'scatter', 'plot', 'of', 'the', 'untransformed', 'points'],\n",
       " ['plt.scatter(grains[:,0],', 'grains[:,1])'],\n",
       " [],\n",
       " ['#', 'Create', 'a', 'PCA', 'instance:', 'model'],\n",
       " ['model', '=', 'PCA()'],\n",
       " [],\n",
       " ['#', 'Fit', 'model', 'to', 'points'],\n",
       " ['model.fit(grains)'],\n",
       " [],\n",
       " ['#', 'Get', 'the', 'mean', 'of', 'the', 'grain', 'samples:', 'mean'],\n",
       " ['mean', '=', 'model.mean_'],\n",
       " [],\n",
       " ['#', 'Get', 'the', 'first', 'principal', 'component:', 'first_pc'],\n",
       " ['first_pc', '=', 'model.components_[0,:]'],\n",
       " [],\n",
       " ['#', 'Plot', 'first_pc', 'as', 'an', 'arrow,', 'starting', 'at', 'mean'],\n",
       " ['plt.arrow(mean[0]',\n",
       "  ',',\n",
       "  'mean[1],',\n",
       "  'first_pc[0],',\n",
       "  'first_pc[1],',\n",
       "  \"color='red',\",\n",
       "  'width=0.01)'],\n",
       " [],\n",
       " ['#', 'Keep', 'axes', 'on', 'same', 'scale'],\n",
       " [\"plt.axis('equal')\"],\n",
       " ['plt.show()'],\n",
       " [],\n",
       " ['----------------------------------------'],\n",
       " [],\n",
       " ['#', 'Perform', 'the', 'necessary', 'imports'],\n",
       " ['from', 'sklearn.decomposition', 'import', 'PCA'],\n",
       " ['from', 'sklearn.preprocessing', 'import', 'StandardScaler'],\n",
       " ['from', 'sklearn.pipeline', 'import', 'make_pipeline'],\n",
       " ['import', 'matplotlib.pyplot', 'as', 'plt'],\n",
       " [],\n",
       " ['#', 'Create', 'scaler:', 'scaler'],\n",
       " ['scaler', '=', 'StandardScaler()'],\n",
       " [],\n",
       " ['#', 'Create', 'a', 'PCA', 'instance:', 'pca'],\n",
       " ['pca', '=', 'PCA()'],\n",
       " [],\n",
       " ['#', 'Create', 'pipeline:', 'pipeline'],\n",
       " ['pipeline', '=', 'make_pipeline(scaler,pca)'],\n",
       " [],\n",
       " ['#', 'Fit', 'the', 'pipeline', 'to', \"'samples'\"],\n",
       " ['pipeline.fit(samples)'],\n",
       " [],\n",
       " ['#', 'Plot', 'the', 'explained', 'variances'],\n",
       " ['features', '=', 'range(pca.n_components_)'],\n",
       " ['plt.bar(features,', 'pca.explained_variance_)'],\n",
       " [\"plt.xlabel('PCA\", \"feature')\"],\n",
       " [\"plt.ylabel('variance')\"],\n",
       " ['plt.xticks(features)'],\n",
       " ['plt.show()'],\n",
       " [],\n",
       " ['--------------------------------------'],\n",
       " [],\n",
       " ['#', 'Import', 'PCA'],\n",
       " ['from', 'sklearn.decomposition', 'import', 'PCA'],\n",
       " [],\n",
       " ['#', 'Create', 'a', 'PCA', 'model', 'with', '2', 'components:', 'pca'],\n",
       " ['pca', '=', 'PCA(n_components=2)'],\n",
       " [],\n",
       " ['#', 'Fit', 'the', 'PCA', 'instance', 'to', 'the', 'scaled', 'samples'],\n",
       " ['pca.fit(scaled_samples)'],\n",
       " [],\n",
       " ['#', 'Transform', 'the', 'scaled', 'samples:', 'pca_features'],\n",
       " ['pca_features', '=', 'pca.transform(scaled_samples)'],\n",
       " [],\n",
       " ['#', 'Print', 'the', 'shape', 'of', 'pca_features'],\n",
       " ['print(pca_features.shape)'],\n",
       " [],\n",
       " ['------------------------------------------------'],\n",
       " []]"
      ]
     },
     "execution_count": 4,
     "metadata": {},
     "output_type": "execute_result"
    }
   ],
   "source": [
    "#Create RDD from external Data source\n",
    "rdd_txt = sc.textFile(\"C:/Users/SAMY/Desktop/pca.txt\")\n",
    "\n",
    "#rdd_txt.collect()\n",
    "\n",
    "rdd_split = rdd_txt.map(lambda x:x.split())\n",
    "lst = rdd_split.collect()\n",
    "lst"
   ]
  },
  {
   "cell_type": "code",
   "execution_count": 9,
   "metadata": {},
   "outputs": [
    {
     "data": {
      "text/plain": [
       "[('ahmed', 20),\n",
       " ('mai', 30),\n",
       " ('hossam', 40),\n",
       " ('aya', 25),\n",
       " ('ahmed', 20),\n",
       " ('mai', 30)]"
      ]
     },
     "execution_count": 9,
     "metadata": {},
     "output_type": "execute_result"
    }
   ],
   "source": [
    "# new problem\n",
    "lst= [('ahmed',20),('mai',30),('hossam',40),('aya',25),('ahmed',20),('mai',30)]\n",
    "rdd = sc.parallelize(lst)\n",
    "rdd.collect()"
   ]
  },
  {
   "cell_type": "code",
   "execution_count": 10,
   "metadata": {},
   "outputs": [
    {
     "data": {
      "text/plain": [
       "[('ahmed', (20, 1)),\n",
       " ('mai', (30, 1)),\n",
       " ('hossam', (40, 1)),\n",
       " ('aya', (25, 1)),\n",
       " ('ahmed', (20, 1)),\n",
       " ('mai', (30, 1))]"
      ]
     },
     "execution_count": 10,
     "metadata": {},
     "output_type": "execute_result"
    }
   ],
   "source": [
    "rdd1 = rdd.map(lambda x:(x[0] , (x[1],1)) )\n",
    "rdd1.collect()"
   ]
  },
  {
   "cell_type": "code",
   "execution_count": 12,
   "metadata": {},
   "outputs": [
    {
     "data": {
      "text/plain": [
       "[('ahmed', (40, 2)), ('mai', (60, 2)), ('hossam', (40, 1)), ('aya', (25, 1))]"
      ]
     },
     "execution_count": 12,
     "metadata": {},
     "output_type": "execute_result"
    }
   ],
   "source": [
    "rdd2 = rdd1.reduceByKey(lambda x,y :( x[0]+y[0] ,x[1]+y[1] ) )\n",
    "rdd2.collect()"
   ]
  },
  {
   "cell_type": "code",
   "execution_count": 14,
   "metadata": {},
   "outputs": [
    {
     "ename": "AttributeError",
     "evalue": "'SparkContext' object has no attribute 'createDataFrame'",
     "output_type": "error",
     "traceback": [
      "\u001b[1;31m---------------------------------------------------------------------------\u001b[0m",
      "\u001b[1;31mAttributeError\u001b[0m                            Traceback (most recent call last)",
      "\u001b[1;32m<ipython-input-14-8552f806e69d>\u001b[0m in \u001b[0;36m<module>\u001b[1;34m\u001b[0m\n\u001b[1;32m----> 1\u001b[1;33m \u001b[0mlst_DF\u001b[0m \u001b[1;33m=\u001b[0m \u001b[0msc\u001b[0m\u001b[1;33m.\u001b[0m\u001b[0mcreateDataFrame\u001b[0m\u001b[1;33m(\u001b[0m\u001b[0mlst\u001b[0m\u001b[1;33m)\u001b[0m\u001b[1;33m\u001b[0m\u001b[1;33m\u001b[0m\u001b[0m\n\u001b[0m\u001b[0;32m      2\u001b[0m \u001b[0mlst_DF\u001b[0m\u001b[1;33m.\u001b[0m\u001b[0mshow\u001b[0m\u001b[1;33m(\u001b[0m\u001b[1;33m)\u001b[0m\u001b[1;33m\u001b[0m\u001b[1;33m\u001b[0m\u001b[0m\n",
      "\u001b[1;31mAttributeError\u001b[0m: 'SparkContext' object has no attribute 'createDataFrame'"
     ]
    }
   ],
   "source": [
    "lst_DF = sc.createDataFrame(lst)\n",
    "lst_DF.show()"
   ]
  },
  {
   "cell_type": "code",
   "execution_count": null,
   "metadata": {},
   "outputs": [],
   "source": []
  }
 ],
 "metadata": {
  "kernelspec": {
   "display_name": "Python 3",
   "language": "python",
   "name": "python3"
  },
  "language_info": {
   "codemirror_mode": {
    "name": "ipython",
    "version": 3
   },
   "file_extension": ".py",
   "mimetype": "text/x-python",
   "name": "python",
   "nbconvert_exporter": "python",
   "pygments_lexer": "ipython3",
   "version": "3.8.5"
  }
 },
 "nbformat": 4,
 "nbformat_minor": 4
}
